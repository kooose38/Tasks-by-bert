{
 "cells": [
  {
   "cell_type": "code",
   "execution_count": 1,
   "id": "7caca501-3ee6-4c9b-ab73-ee621b1f9b3d",
   "metadata": {},
   "outputs": [
    {
     "data": {
      "text/html": [
       "<div>\n",
       "<style scoped>\n",
       "    .dataframe tbody tr th:only-of-type {\n",
       "        vertical-align: middle;\n",
       "    }\n",
       "\n",
       "    .dataframe tbody tr th {\n",
       "        vertical-align: top;\n",
       "    }\n",
       "\n",
       "    .dataframe thead th {\n",
       "        text-align: right;\n",
       "    }\n",
       "</style>\n",
       "<table border=\"1\" class=\"dataframe\">\n",
       "  <thead>\n",
       "    <tr style=\"text-align: right;\">\n",
       "      <th></th>\n",
       "      <th>text</th>\n",
       "      <th>negative</th>\n",
       "      <th>neutral</th>\n",
       "      <th>positive</th>\n",
       "    </tr>\n",
       "  </thead>\n",
       "  <tbody>\n",
       "    <tr>\n",
       "      <th>2680</th>\n",
       "      <td>以上の結果、国内きのこ事業全体の売上高は422億96百万円（同3.1％増）となりました</td>\n",
       "      <td>0</td>\n",
       "      <td>0</td>\n",
       "      <td>1</td>\n",
       "    </tr>\n",
       "    <tr>\n",
       "      <th>3334</th>\n",
       "      <td>また、エレクトロニクス事業では、昨年５月と本年３月に滋賀県守山市におけるリチウムイオン二次電...</td>\n",
       "      <td>0</td>\n",
       "      <td>0</td>\n",
       "      <td>0</td>\n",
       "    </tr>\n",
       "    <tr>\n",
       "      <th>3918</th>\n",
       "      <td>セグメントの業績は次のとおりであります</td>\n",
       "      <td>0</td>\n",
       "      <td>0</td>\n",
       "      <td>0</td>\n",
       "    </tr>\n",
       "    <tr>\n",
       "      <th>4319</th>\n",
       "      <td>なお、当連結会計年度において福岡県に１店舗の新規開店、退店を２店舗行ったことから、当連結会計...</td>\n",
       "      <td>0</td>\n",
       "      <td>0</td>\n",
       "      <td>0</td>\n",
       "    </tr>\n",
       "    <tr>\n",
       "      <th>3669</th>\n",
       "      <td>（以下、「２生産、受注及び販売の状況」及び「７財政状態、経営成績及びキャッシュ・フローの状況...</td>\n",
       "      <td>0</td>\n",
       "      <td>0</td>\n",
       "      <td>0</td>\n",
       "    </tr>\n",
       "    <tr>\n",
       "      <th>4924</th>\n",
       "      <td>また、営業利益は、前年同期比7,688百万円減少し、15,920百万円となりました</td>\n",
       "      <td>1</td>\n",
       "      <td>0</td>\n",
       "      <td>0</td>\n",
       "    </tr>\n",
       "    <tr>\n",
       "      <th>5381</th>\n",
       "      <td>貨物部門におきましては、堅調に推移し、貨物収入は前年同期に比べ増加いたしました</td>\n",
       "      <td>0</td>\n",
       "      <td>0</td>\n",
       "      <td>1</td>\n",
       "    </tr>\n",
       "    <tr>\n",
       "      <th>3101</th>\n",
       "      <td>自動車販売事業は、新車販売等が減少し、売上高21,686百万円（前年同期比5.1％減）となり...</td>\n",
       "      <td>1</td>\n",
       "      <td>0</td>\n",
       "      <td>1</td>\n",
       "    </tr>\n",
       "    <tr>\n",
       "      <th>3709</th>\n",
       "      <td>ニンテンドー3DSでは、全世界で11月に発売した『ポケットモンスター サン・ムーン』が大変話...</td>\n",
       "      <td>0</td>\n",
       "      <td>0</td>\n",
       "      <td>1</td>\n",
       "    </tr>\n",
       "    <tr>\n",
       "      <th>2358</th>\n",
       "      <td>これらの環境のもと、上記の取組みにより過去最高の業績を達成することができました</td>\n",
       "      <td>0</td>\n",
       "      <td>0</td>\n",
       "      <td>1</td>\n",
       "    </tr>\n",
       "  </tbody>\n",
       "</table>\n",
       "</div>"
      ],
      "text/plain": [
       "                                                   text  negative  neutral  \\\n",
       "2680        以上の結果、国内きのこ事業全体の売上高は422億96百万円（同3.1％増）となりました         0        0   \n",
       "3334  また、エレクトロニクス事業では、昨年５月と本年３月に滋賀県守山市におけるリチウムイオン二次電...         0        0   \n",
       "3918                                セグメントの業績は次のとおりであります         0        0   \n",
       "4319  なお、当連結会計年度において福岡県に１店舗の新規開店、退店を２店舗行ったことから、当連結会計...         0        0   \n",
       "3669  （以下、「２生産、受注及び販売の状況」及び「７財政状態、経営成績及びキャッシュ・フローの状況...         0        0   \n",
       "4924          また、営業利益は、前年同期比7,688百万円減少し、15,920百万円となりました         1        0   \n",
       "5381            貨物部門におきましては、堅調に推移し、貨物収入は前年同期に比べ増加いたしました         0        0   \n",
       "3101  自動車販売事業は、新車販売等が減少し、売上高21,686百万円（前年同期比5.1％減）となり...         1        0   \n",
       "3709  ニンテンドー3DSでは、全世界で11月に発売した『ポケットモンスター サン・ムーン』が大変話...         0        0   \n",
       "2358            これらの環境のもと、上記の取組みにより過去最高の業績を達成することができました         0        0   \n",
       "\n",
       "      positive  \n",
       "2680         1  \n",
       "3334         0  \n",
       "3918         0  \n",
       "4319         0  \n",
       "3669         0  \n",
       "4924         0  \n",
       "5381         1  \n",
       "3101         1  \n",
       "3709         1  \n",
       "2358         1  "
      ]
     },
     "execution_count": 1,
     "metadata": {},
     "output_type": "execute_result"
    }
   ],
   "source": [
    "import pickle \n",
    "import pandas as pd \n",
    "f = open(\"./dataset/dataset.txt\", \"rb\")\n",
    "data = pickle.load(f)\n",
    "\n",
    "sentence, labels = [], []\n",
    "for d in data:\n",
    "    text = d[\"text\"]\n",
    "    label = d[\"labels\"]\n",
    "    sentence.append(text)\n",
    "    labels.append(label)\n",
    "    \n",
    "df = pd.DataFrame(labels, columns=[\"negative\", \"neutral\", \"positive\"])\n",
    "df[\"text\"] = sentence \n",
    "df[[\"text\", \"negative\", \"neutral\", \"positive\"]].sample(10)"
   ]
  },
  {
   "cell_type": "code",
   "execution_count": 2,
   "id": "de3d84e9-613d-48af-9000-8b867bbd43d1",
   "metadata": {},
   "outputs": [
    {
     "data": {
      "text/plain": [
       "{'input_ids': [2, 162, 5329, 6787, 1387, 23, 593, 965, 19, 57, 37, 17, 32, 1321, 593, 1017, 19, 48, 37, 1069, 32, 6, 562, 36, 162, 28692, 38, 140, 24, 5, 12344, 28518, 994, 9, 6, 1189, 9026, 920, 5656, 1546, 5, 3465, 14, 2463, 51, 6, 1963, 3296, 9, 25510, 25759, 312, 1313, 5617, 5, 3040, 14, 2463, 459, 6, 13569, 9, 15021, 18, 3641, 12872, 14, 1822, 10, 3, 0, 0, 0, 0, 0, 0, 0, 0, 0, 0, 0, 0, 0, 0, 0, 0, 0, 0, 0, 0, 0, 0, 0, 0, 0, 0, 0, 0, 0, 0, 0, 0, 0, 0, 0, 0, 0, 0, 0, 0, 0, 0, 0, 0, 0, 0, 0, 0, 0, 0, 0, 0, 0, 0, 0, 0, 0, 0], 'token_type_ids': [0, 0, 0, 0, 0, 0, 0, 0, 0, 0, 0, 0, 0, 0, 0, 0, 0, 0, 0, 0, 0, 0, 0, 0, 0, 0, 0, 0, 0, 0, 0, 0, 0, 0, 0, 0, 0, 0, 0, 0, 0, 0, 0, 0, 0, 0, 0, 0, 0, 0, 0, 0, 0, 0, 0, 0, 0, 0, 0, 0, 0, 0, 0, 0, 0, 0, 0, 0, 0, 0, 0, 0, 0, 0, 0, 0, 0, 0, 0, 0, 0, 0, 0, 0, 0, 0, 0, 0, 0, 0, 0, 0, 0, 0, 0, 0, 0, 0, 0, 0, 0, 0, 0, 0, 0, 0, 0, 0, 0, 0, 0, 0, 0, 0, 0, 0, 0, 0, 0, 0, 0, 0, 0, 0, 0, 0, 0, 0], 'attention_mask': [1, 1, 1, 1, 1, 1, 1, 1, 1, 1, 1, 1, 1, 1, 1, 1, 1, 1, 1, 1, 1, 1, 1, 1, 1, 1, 1, 1, 1, 1, 1, 1, 1, 1, 1, 1, 1, 1, 1, 1, 1, 1, 1, 1, 1, 1, 1, 1, 1, 1, 1, 1, 1, 1, 1, 1, 1, 1, 1, 1, 1, 1, 1, 1, 1, 1, 1, 1, 1, 1, 0, 0, 0, 0, 0, 0, 0, 0, 0, 0, 0, 0, 0, 0, 0, 0, 0, 0, 0, 0, 0, 0, 0, 0, 0, 0, 0, 0, 0, 0, 0, 0, 0, 0, 0, 0, 0, 0, 0, 0, 0, 0, 0, 0, 0, 0, 0, 0, 0, 0, 0, 0, 0, 0, 0, 0, 0, 0]}"
      ]
     },
     "execution_count": 2,
     "metadata": {},
     "output_type": "execute_result"
    }
   ],
   "source": [
    "from tokenizer import tokenizer_\n",
    "sample = data[0][\"text\"]\n",
    "tokenizer_()(sample,\n",
    "                      max_length=128,\n",
    "                      padding=\"max_length\",\n",
    "                      truncation=True)"
   ]
  },
  {
   "cell_type": "code",
   "execution_count": 3,
   "id": "e4524fce-8831-450a-849b-aff65730bb06",
   "metadata": {},
   "outputs": [],
   "source": [
    "from data import DataLoader_ \n",
    "d = DataLoader_()"
   ]
  },
  {
   "cell_type": "code",
   "execution_count": 4,
   "id": "c3b9a976-dc7a-47d9-a372-99cad870230a",
   "metadata": {},
   "outputs": [
    {
     "data": {
      "text/plain": [
       "<torch.utils.data.dataloader.DataLoader at 0x7ff755573ac0>"
      ]
     },
     "execution_count": 4,
     "metadata": {},
     "output_type": "execute_result"
    }
   ],
   "source": [
    "train, val, test = d.dataloader()\n",
    "train "
   ]
  },
  {
   "cell_type": "code",
   "execution_count": 10,
   "id": "fffd8d97-93e3-442a-a4a0-abe813e91cdd",
   "metadata": {},
   "outputs": [],
   "source": [
    "for i in train:\n",
    "    input_ = i \n",
    "    break"
   ]
  },
  {
   "cell_type": "code",
   "execution_count": 11,
   "id": "0365011d-9564-4a38-beb9-b469ebc25018",
   "metadata": {},
   "outputs": [
    {
     "name": "stdout",
     "output_type": "stream",
     "text": [
      "torch.Size([32, 3])\n"
     ]
    }
   ],
   "source": [
    "import torch \n",
    "from model import BertForSequenceClassificationMultiLabel\n",
    "model = BertForSequenceClassificationMultiLabel(3)\n",
    "\n",
    "with torch.no_grad():\n",
    "    labels = input_.pop(\"labels\")\n",
    "    output = model(input_)\n",
    "print(output.size())"
   ]
  },
  {
   "cell_type": "code",
   "execution_count": 14,
   "id": "9682c4da-0eeb-4634-9bb5-3d7d37461b70",
   "metadata": {},
   "outputs": [
    {
     "data": {
      "text/plain": [
       "tensor(0.8917)"
      ]
     },
     "execution_count": 14,
     "metadata": {},
     "output_type": "execute_result"
    }
   ],
   "source": [
    "loss_f = torch.nn.BCEWithLogitsLoss()\n",
    "loss_f(output, labels.float())"
   ]
  },
  {
   "cell_type": "code",
   "execution_count": 21,
   "id": "e4079756-df4e-4266-bf31-b67cd0b5b894",
   "metadata": {},
   "outputs": [
    {
     "data": {
      "text/plain": [
       "31"
      ]
     },
     "execution_count": 21,
     "metadata": {},
     "output_type": "execute_result"
    }
   ],
   "source": [
    "s = output.cpu().numpy() \n",
    "import numpy as np \n",
    "corr = np.where(s >= .5, 1, 0).astype(int) == labels.cpu().numpy()\n",
    "\n",
    "corr.sum()"
   ]
  },
  {
   "cell_type": "code",
   "execution_count": 23,
   "id": "8432ec6a-1c80-4acf-9897-1e7c963b2567",
   "metadata": {},
   "outputs": [
    {
     "data": {
      "text/plain": [
       "96"
      ]
     },
     "execution_count": 23,
     "metadata": {},
     "output_type": "execute_result"
    }
   ],
   "source": [
    "labels.size()[0]*3"
   ]
  },
  {
   "cell_type": "code",
   "execution_count": 28,
   "id": "331b0c86-b1a9-460b-ae01-63a654708ccc",
   "metadata": {},
   "outputs": [
    {
     "data": {
      "text/plain": [
       "True"
      ]
     },
     "execution_count": 28,
     "metadata": {},
     "output_type": "execute_result"
    }
   ],
   "source": [
    "float(\"inf\") > 20"
   ]
  },
  {
   "cell_type": "code",
   "execution_count": null,
   "id": "045c1666-66e9-4e48-b19f-8a4f8b0a29e7",
   "metadata": {},
   "outputs": [],
   "source": [
    "from train import train \n",
    "train(1, False, 12, 32, 5.0)"
   ]
  },
  {
   "cell_type": "code",
   "execution_count": null,
   "id": "f725c4a2-d472-4ea4-9ce6-b9982fb06295",
   "metadata": {},
   "outputs": [],
   "source": []
  }
 ],
 "metadata": {
  "kernelspec": {
   "display_name": "Python 3 (ipykernel)",
   "language": "python",
   "name": "python3"
  },
  "language_info": {
   "codemirror_mode": {
    "name": "ipython",
    "version": 3
   },
   "file_extension": ".py",
   "mimetype": "text/x-python",
   "name": "python",
   "nbconvert_exporter": "python",
   "pygments_lexer": "ipython3",
   "version": "3.8.5"
  }
 },
 "nbformat": 4,
 "nbformat_minor": 5
}
