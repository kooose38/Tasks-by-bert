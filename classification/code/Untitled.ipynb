{
 "cells": [
  {
   "cell_type": "code",
   "execution_count": 9,
   "id": "affd4e54-da6e-40d3-949b-01c026f51ccb",
   "metadata": {},
   "outputs": [],
   "source": [
    "from transformers import BertForSequenceClassification\n",
    "import torch\n",
    "from dataloader import DataLoader_\n",
    "import torch.nn as nn \n",
    "from torch.utils.tensorboard import SummaryWriter"
   ]
  },
  {
   "cell_type": "code",
   "execution_count": 3,
   "id": "2ce5a8b3-1125-45fb-8de9-0d7bcd021386",
   "metadata": {},
   "outputs": [],
   "source": [
    "class Deve(nn.Module):\n",
    "    def __init__(self, model_name: str, num_labels: int):\n",
    "        super(Deve, self).__init__()\n",
    "        self.bert_sc = BertForSequenceClassification.from_pretrained(model_name,\n",
    "                                                                    num_labels=num_labels)\n",
    "    def forward(self, x):\n",
    "        output = self.bert_sc(**x)\n",
    "        return output.logits\n",
    "        "
   ]
  },
  {
   "cell_type": "code",
   "execution_count": 10,
   "id": "41fdfab0-acbd-4797-a979-b43fbb540a4c",
   "metadata": {},
   "outputs": [
    {
     "data": {
      "text/plain": [
       "340"
      ]
     },
     "execution_count": 10,
     "metadata": {},
     "output_type": "execute_result"
    }
   ],
   "source": [
    "data = DataLoader_()\n",
    "train, val, test = data.dataloader(10, False, 10)\n",
    "len(train)"
   ]
  },
  {
   "cell_type": "code",
   "execution_count": 5,
   "id": "614c0a98-2d6d-499d-9789-803b74a530db",
   "metadata": {},
   "outputs": [
    {
     "name": "stderr",
     "output_type": "stream",
     "text": [
      "Some weights of the model checkpoint at cl-tohoku/bert-base-japanese-whole-word-masking were not used when initializing BertForSequenceClassification: ['cls.predictions.bias', 'cls.predictions.transform.dense.weight', 'cls.predictions.transform.dense.bias', 'cls.predictions.transform.LayerNorm.weight', 'cls.predictions.transform.LayerNorm.bias', 'cls.predictions.decoder.weight', 'cls.seq_relationship.weight', 'cls.seq_relationship.bias']\n",
      "- This IS expected if you are initializing BertForSequenceClassification from the checkpoint of a model trained on another task or with another architecture (e.g. initializing a BertForSequenceClassification model from a BertForPreTraining model).\n",
      "- This IS NOT expected if you are initializing BertForSequenceClassification from the checkpoint of a model that you expect to be exactly identical (initializing a BertForSequenceClassification model from a BertForSequenceClassification model).\n",
      "Some weights of BertForSequenceClassification were not initialized from the model checkpoint at cl-tohoku/bert-base-japanese-whole-word-masking and are newly initialized: ['classifier.weight', 'classifier.bias']\n",
      "You should probably TRAIN this model on a down-stream task to be able to use it for predictions and inference.\n"
     ]
    }
   ],
   "source": [
    "model = Deve(\"cl-tohoku/bert-base-japanese-whole-word-masking\", 10)\n",
    "loss_f = torch.nn.CrossEntropyLoss()\n",
    "optimizer = torch.optim.Adam(model.parameters(), lr=0.01)"
   ]
  },
  {
   "cell_type": "code",
   "execution_count": null,
   "id": "9b6ef0ac-6cad-4c1e-b87d-199eda74ba68",
   "metadata": {},
   "outputs": [],
   "source": [
    "epoch = 10\n",
    "\n",
    "for e in range(epoch)\n",
    "    val_acc, val_loss = 0, 0\n",
    "    model.train()\n",
    "    for x in train:\n",
    "        t = x[\"labels\"]\n",
    "        y = model(x)\n",
    "        assert len(t) == len(y)\n",
    "        loss = loss_f(y, t)\n",
    "        optimizer.zero_grad()\n",
    "        loss.backward()\n",
    "        optimizer.step()\n",
    "    model.eval()\n",
    "    for x_v in val:\n",
    "        t_v = x_v[\"labels\"]\n",
    "        y_v = model(x_v)\n",
    "        loss_v = loss_f(y_v, t_v)\n",
    "        y_v = y_v.argmax(-1)\n",
    "        acc = (y_v == t_v).sum()\n",
    "        val_loss += loss_v \n",
    "        val_acc += acc \n",
    "        all_len += t_v.size()[0]\n",
    "    print(f\"epoch: {e} -- val Loss: {val_loss} -- val accuracy: {val_loss/all_len:.3f}\")\n",
    "    \n",
    "torch.save(model.state_dict(). \"./model/model_weights.pth\")"
   ]
  },
  {
   "cell_type": "code",
   "execution_count": 12,
   "id": "cf10c569-15dc-47ea-a8b1-4c326c096fe3",
   "metadata": {},
   "outputs": [
    {
     "data": {
      "text/plain": [
       "2"
      ]
     },
     "execution_count": 12,
     "metadata": {},
     "output_type": "execute_result"
    }
   ],
   "source": [
    "a = torch.tensor([2, 3, 3])\n",
    "b = torch.tensor([2, 3, 1])\n",
    "(a == b).sum().item()"
   ]
  },
  {
   "cell_type": "code",
   "execution_count": null,
   "id": "d0eb3c45-711a-462f-8d3b-0b4b0b3e0da8",
   "metadata": {},
   "outputs": [],
   "source": []
  }
 ],
 "metadata": {
  "kernelspec": {
   "display_name": "Python 3 (ipykernel)",
   "language": "python",
   "name": "python3"
  },
  "language_info": {
   "codemirror_mode": {
    "name": "ipython",
    "version": 3
   },
   "file_extension": ".py",
   "mimetype": "text/x-python",
   "name": "python",
   "nbconvert_exporter": "python",
   "pygments_lexer": "ipython3",
   "version": "3.8.5"
  }
 },
 "nbformat": 4,
 "nbformat_minor": 5
}
