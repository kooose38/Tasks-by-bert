{
 "cells": [
  {
   "cell_type": "markdown",
   "id": "8b925331-6d02-4428-a41d-9a04c7c54e09",
   "metadata": {},
   "source": [
    "### Sample dataset from livedoor"
   ]
  },
  {
   "cell_type": "code",
   "execution_count": 12,
   "id": "4b6ffabf-af43-439c-99ba-47004e3a3268",
   "metadata": {},
   "outputs": [],
   "source": [
    "import pickle \n",
    "import pandas as pd \n",
    "\n",
    "t, l = [], []\n",
    "with open(\"./dataset/test.txt\", \"rb\") as f:\n",
    "    list_row = pickle.load(f)\n",
    "    for sentence in list_row[:10]:\n",
    "        text = sentence[\"sentence\"]\n",
    "        label = sentence[\"labels\"]\n",
    "        \n",
    "        t.append(text)\n",
    "        l.append(label)\n",
    "df = pd.DataFrame({\"text\": t, \"labels\": l})"
   ]
  },
  {
   "cell_type": "code",
   "execution_count": 13,
   "id": "93e15ce0-3a35-40da-948c-587a03858395",
   "metadata": {},
   "outputs": [
    {
     "data": {
      "text/html": [
       "<div>\n",
       "<style scoped>\n",
       "    .dataframe tbody tr th:only-of-type {\n",
       "        vertical-align: middle;\n",
       "    }\n",
       "\n",
       "    .dataframe tbody tr th {\n",
       "        vertical-align: top;\n",
       "    }\n",
       "\n",
       "    .dataframe thead th {\n",
       "        text-align: right;\n",
       "    }\n",
       "</style>\n",
       "<table border=\"1\" class=\"dataframe\">\n",
       "  <thead>\n",
       "    <tr style=\"text-align: right;\">\n",
       "      <th></th>\n",
       "      <th>text</th>\n",
       "      <th>labels</th>\n",
       "    </tr>\n",
       "  </thead>\n",
       "  <tbody>\n",
       "    <tr>\n",
       "      <th>0</th>\n",
       "      <td>REGZA Phone T-02Dが7月26日に発売開始！ NTTドコモは23日、今夏に発売...</td>\n",
       "      <td>6</td>\n",
       "    </tr>\n",
       "    <tr>\n",
       "      <th>1</th>\n",
       "      <td>「3年で転職は早すぎる？」「将来が見えない」「仕事が面白くない」・・・若手社会人の悩みは尽き...</td>\n",
       "      <td>3</td>\n",
       "    </tr>\n",
       "    <tr>\n",
       "      <th>2</th>\n",
       "      <td>「素敵だと思う人には、もうすでに奥さんがいる」これは30代独女によく聞かれる言葉。たしかに結...</td>\n",
       "      <td>0</td>\n",
       "    </tr>\n",
       "    <tr>\n",
       "      <th>3</th>\n",
       "      <td>6日、FIFAはサッカーの世界ランキングを発表したが、その結果が韓国ネット掲示板上で大きな話...</td>\n",
       "      <td>8</td>\n",
       "    </tr>\n",
       "    <tr>\n",
       "      <th>4</th>\n",
       "      <td>18日、お笑い芸人・鉄拳が描いたパラパラ漫画「振り子」がYouTubeにアップロードされ、ネ...</td>\n",
       "      <td>8</td>\n",
       "    </tr>\n",
       "    <tr>\n",
       "      <th>5</th>\n",
       "      <td>韓国のIT専門ニュースサイト「ブロター・ネット」は、29日、サムスンが公開したアンドロイド搭...</td>\n",
       "      <td>8</td>\n",
       "    </tr>\n",
       "    <tr>\n",
       "      <th>6</th>\n",
       "      <td>イギリスの医学誌「The Lancet」は世界122ヵ国を対象に、各国の「怠け者度」を調査し...</td>\n",
       "      <td>8</td>\n",
       "    </tr>\n",
       "    <tr>\n",
       "      <th>7</th>\n",
       "      <td>「3年で転職は早すぎる？」「将来が見えない」「仕事が面白くない」・・・若手社会人の悩みは尽き...</td>\n",
       "      <td>3</td>\n",
       "    </tr>\n",
       "    <tr>\n",
       "      <th>8</th>\n",
       "      <td>スマホにメイドさんはいかが？ 育成要素もあるメイドさんのライブ壁紙アプリ「メイドさんライブ壁...</td>\n",
       "      <td>6</td>\n",
       "    </tr>\n",
       "    <tr>\n",
       "      <th>9</th>\n",
       "      <td>新卒で入社した国内大手のコンサルティング企業から、外資系ＩＴコンサルティング会社へと転職し、...</td>\n",
       "      <td>3</td>\n",
       "    </tr>\n",
       "  </tbody>\n",
       "</table>\n",
       "</div>"
      ],
      "text/plain": [
       "                                                text  labels\n",
       "0  REGZA Phone T-02Dが7月26日に発売開始！ NTTドコモは23日、今夏に発売...       6\n",
       "1  「3年で転職は早すぎる？」「将来が見えない」「仕事が面白くない」・・・若手社会人の悩みは尽き...       3\n",
       "2  「素敵だと思う人には、もうすでに奥さんがいる」これは30代独女によく聞かれる言葉。たしかに結...       0\n",
       "3  6日、FIFAはサッカーの世界ランキングを発表したが、その結果が韓国ネット掲示板上で大きな話...       8\n",
       "4  18日、お笑い芸人・鉄拳が描いたパラパラ漫画「振り子」がYouTubeにアップロードされ、ネ...       8\n",
       "5  韓国のIT専門ニュースサイト「ブロター・ネット」は、29日、サムスンが公開したアンドロイド搭...       8\n",
       "6  イギリスの医学誌「The Lancet」は世界122ヵ国を対象に、各国の「怠け者度」を調査し...       8\n",
       "7  「3年で転職は早すぎる？」「将来が見えない」「仕事が面白くない」・・・若手社会人の悩みは尽き...       3\n",
       "8  スマホにメイドさんはいかが？ 育成要素もあるメイドさんのライブ壁紙アプリ「メイドさんライブ壁...       6\n",
       "9  新卒で入社した国内大手のコンサルティング企業から、外資系ＩＴコンサルティング会社へと転職し、...       3"
      ]
     },
     "execution_count": 13,
     "metadata": {},
     "output_type": "execute_result"
    }
   ],
   "source": [
    "df"
   ]
  }
 ],
 "metadata": {
  "kernelspec": {
   "display_name": "Python 3 (ipykernel)",
   "language": "python",
   "name": "python3"
  },
  "language_info": {
   "codemirror_mode": {
    "name": "ipython",
    "version": 3
   },
   "file_extension": ".py",
   "mimetype": "text/x-python",
   "name": "python",
   "nbconvert_exporter": "python",
   "pygments_lexer": "ipython3",
   "version": "3.8.5"
  }
 },
 "nbformat": 4,
 "nbformat_minor": 5
}
